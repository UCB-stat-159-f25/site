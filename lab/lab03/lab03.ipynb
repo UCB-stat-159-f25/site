{
 "cells": [
  {
   "cell_type": "markdown",
   "metadata": {},
   "source": [
    "# Lab Session 3: GitHub continued, Pull Requests\n",
    "\n",
    "> Friday 02-10-2023, 9AM-11AM & 12AM-2PM \n",
    ">\n",
    "> Instructor: [Facundo Sapienza](https://statistics.berkeley.edu/people/facu-sapienza)\n"
   ]
  },
  {
   "cell_type": "markdown",
   "metadata": {},
   "source": [
    "Useful links: \n",
    "\n",
    "- [JupyterHub](https://stat159.datahub.berkeley.edu/hub/login?next=%2Fhub%2F)\n"
   ]
  },
  {
   "cell_type": "markdown",
   "metadata": {},
   "source": [
    "## 1. Collaborating on GitHub with a small team\n",
    "\n",
    "We are going to set up a shared collaboration with one partner (the person sitting next to you).  This will show the basic workflow of collaborating on a project with a small team where everyone have write privileges to the same repository.  \n",
    "\n",
    "We will have two people, let's call them Alice and Bob, sharing a repository.  Alice will be the owner of the repository and she will give Bob write privileges.  \n",
    "\n",
    "We begin with a simple synchronization example, much like we just did above, but now between **two people** instead of one person.  Otherwise it's the same:\n",
    "\n",
    "- Alice creates a new repository in GitHub with some basic text files on it (this could be the same one that you use for the previous exercise).\n",
    "- Bob clones Alice's repository.\n",
    "- Bob makes changes to a file and commits them locally.\n",
    "- Bob pushes his changes to GitHub.\n",
    "- Alice pulls Bob's changes into her own repository.\n",
    "\n",
    "Next, we will have both parties make non-conflicting changes each, and commit them locally.  Then both try to push their changes:\n",
    "\n",
    "- Alice adds a new file, `alice.txt` to the repo and commits.\n",
    "- Add a tag to this stage of the repository. What is a [tag](https://mirrors.edge.kernel.org/pub/software/scm/git/docs/git-tag.html) and how to make one?\n",
    "- Bob adds `bob.txt` and commits.\n",
    "- Alice pushes to GitHub.\n",
    "- Bob tries to push to GitHub.  What happens here?\n",
    "\n",
    "The problem is that Bob's changes create a commit that conflicts with Alice's, so git refuses to apply them.  It forces Bob to first do the merge on his machine, so that if there is a conflict in the merge, Bob deals with the conflict manually (git could try to do the merge on the server, but in that case if there's a conflict, the server repository would be left in a conflicted state without a human to fix things up).  The solution is for Bob to first pull the changes."
   ]
  },
  {
   "cell_type": "markdown",
   "metadata": {},
   "source": [
    "## 2. Reconstructing past versions\n",
    "\n",
    "Sometimes we make accidental changes to some of the files in a repository, or maybe we just want to comeback to a previous version. In any case, it is easy to restore or even recover old versions of files that have been track in a commit message. \n",
    "\n",
    "For these next examples, we are going to use the `git checkout` command to restore past versions of a file. This can lead to some confussion, since this is the same command we use for changing branches. In a sense, `git checkout` does both the work of `git switch` and `git restore`. You can do all the following exercises with `git restore` instead of `git checkout`.  "
   ]
  },
  {
   "cell_type": "markdown",
   "metadata": {},
   "source": [
    "### 2.1. Restoring old versions\n",
    "\n",
    "For this example, we are going to make modifications to one of the files in our repository and then recover some of the older versions. \n",
    "\n",
    "1. Make more than one change in the same file in your repository, for example you can use write some new text inside `text.txt`. With `echo \"...\" >> text.txt` you will print new lines at the end of `text.txt` (with `>` you will just overwrite all the contents). \n",
    "1. Try to restore previous version of such file by using \n",
    "```bash\n",
    "git checkout <commit> <filename>\n",
    "```\n",
    "or \n",
    "```bash \n",
    "git restore --source=<commit> <filename>\n",
    "```\n",
    "You will need to specify the stage at which you want to restore the file. You can do this by looking at the log of the repository (`git log`, `git slog`, `git log --all`). This is why commit messages are so important! \n",
    "\n",
    "Observation: you can also see old versions of your files directly on GitHub, in case you need to inspect previous versions of files."
   ]
  },
  {
   "cell_type": "markdown",
   "metadata": {
    "tags": []
   },
   "source": [
    "### 2.2. Recovering deleted files\n",
    "\n",
    "Now, let's practice deleting and recovering an specific file\n",
    "\n",
    "1. Remove one of the files in your test repository. You can also just create a new file and remove it. To do so, use the `git rm <file name>`. You can take a look to this [link](https://www.atlassian.com/git/tutorials/undoing-changes/git-rm) to see some flags you can add to this command. \n",
    "1. If you haven't commit your changes, you can recover the file just by coming back to the previous snapshot of the repository by using `git checkout HEAD`\n",
    "1. Now, if you make a commit after removing the changes, you need to do a little bit more of work. Use `git slog -- <filename>` to see all the history associated to the file you removed and then use `git checkout <commit> -- <filename>` to recover it. "
   ]
  },
  {
   "cell_type": "markdown",
   "metadata": {},
   "source": [
    "## 3. Pull Request"
   ]
  },
  {
   "cell_type": "markdown",
   "metadata": {},
   "source": [
    "## 4. Other useful commands\n",
    "\n",
    "If you already finished all the previous tasks, you are welcome to explore some more useful git commands!\n",
    "- [show](http://www.kernel.org/pub/software/scm/git/docs/git-show.html)\n",
    "- [reflog](http://www.kernel.org/pub/software/scm/git/docs/git-reflog.html)\n",
    "- [rebase](http://www.kernel.org/pub/software/scm/git/docs/git-rebase.html)\n",
    "- [fetch](https://mirrors.edge.kernel.org/pub/software/scm/git/docs/git-fetch.html)\n",
    "\n",
    "Can you think in a situation where these commands may result useful? For example, instead of using `git pull`, can you do the same with `git fetch` and then `git merge`? If so, what can be the advantage of doing such a thing?"
   ]
  },
  {
   "cell_type": "code",
   "execution_count": null,
   "metadata": {},
   "outputs": [],
   "source": []
  }
 ],
 "metadata": {
  "kernelspec": {
   "display_name": "Python 3 (ipykernel)",
   "language": "python",
   "name": "python3"
  },
  "language_info": {
   "codemirror_mode": {
    "name": "ipython",
    "version": 3
   },
   "file_extension": ".py",
   "mimetype": "text/x-python",
   "name": "python",
   "nbconvert_exporter": "python",
   "pygments_lexer": "ipython3",
   "version": "3.10.8"
  }
 },
 "nbformat": 4,
 "nbformat_minor": 4
}
