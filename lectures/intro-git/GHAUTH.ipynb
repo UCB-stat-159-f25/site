{
 "cells": [
  {
   "cell_type": "markdown",
   "id": "6bea962e-f502-4a2e-8cf7-b4de0f74c5e5",
   "metadata": {},
   "source": [
    "# Activate GitHub Authentication\n",
    "\n",
    "**Copy this notebook to your home directory (and star/favorite it to find it easily on your sidebar)**\n",
    "\n",
    ":::{hint} First time setup\n",
    ":class: dropdown\n",
    "\n",
    "The first time you use this process on a new hub, you will need to configure your Github account(s) to allow them to be accessed by this hub. To do that, visit this URL:\n",
    "\n",
    "https://github.com/apps/stat159-berkeley-datahub-access\n",
    "\n",
    "You will see a page similar to this:\n",
    "\n",
    "![image.png](attachment:fd8fc035-f19d-47e0-b312-161c7c3fe904.png)\n",
    "\n",
    " \n",
    "Click on the \"Install\" button to the right.\n",
    "\n",
    "That will take you to a page like the image below, where you can choose which organization(s) on Github you want to allow this hub to send data to. For most users it may only be your personal account, but you can choose, if you have the necessary pemissions, to push to repos owned by other orgs than your personal user (do this only if it is consistent with the policies and practices of said organizations).\n",
    "\n",
    "![image.png](attachment:a5610738-5cc7-403f-a842-feb833723266.png)\n",
    "\n",
    "Once you click on the row, you'll see a page like this, where you can choose whether to let the hub push to all your repos (pick that option for now), or to have more fine-grained control and manually select only some repos to grant access to:\n",
    "\n",
    "![image.png](attachment:1731497b-8a0a-4885-8dbd-8731020c6d70.png)\n",
    "\n",
    "You can later return to the URL above to change this configuration if needed. You will need to repeat this process only if you decide to change these permissions or add new organizations, otherwise it's a one-time setup.\n",
    ":::"
   ]
  },
  {
   "cell_type": "markdown",
   "id": "06aa0bf3-f34a-4ade-8945-463ff010032d",
   "metadata": {},
   "source": [
    "**Once you have completed the above, run the cell below to activate GitHub access**\n",
    "\n",
    "You can click on the link it produces, which will take you to:\n",
    "\n",
    "https://github.com/login/device\n",
    "\n",
    "where you will need to paste a code. Note that this code will already be copied to your clipboard!\n",
    "\n",
    "So the sequence for you is\n",
    "1. Run the cell.\n",
    "2. Click on the link.\n",
    "3. Paste (`Ctrl-V` or `Cmd-V` depending on your computer)\n",
    "\n",
    "That's it!"
   ]
  },
  {
   "cell_type": "code",
   "execution_count": 1,
   "id": "133ae61c-46d6-4794-ba22-a09efb09e219",
   "metadata": {},
   "outputs": [
    {
     "data": {
      "application/javascript": [
       "navigator.clipboard.writeText(\"289A-650A\");"
      ],
      "text/plain": [
       "<IPython.core.display.Javascript object>"
      ]
     },
     "metadata": {},
     "output_type": "display_data"
    },
    {
     "name": "stdout",
     "output_type": "stream",
     "text": [
      "The code 289A-650A has been copied to your clipboard.\n",
      "You have 15 minutes to go to https://github.com/login/device and paste it there.\n",
      "\n",
      "Waiting........\n"
     ]
    },
    {
     "data": {
      "text/html": [
       "<p style=\"background-color:lightgreen;\">Success! Authentication will expire in 8.0 hours.<br /></p>"
      ],
      "text/plain": [
       "<IPython.core.display.HTML object>"
      ]
     },
     "metadata": {},
     "output_type": "display_data"
    },
    {
     "name": "stdout",
     "output_type": "stream",
     "text": [
      "Visit https://github.com/apps/stat159-berkeley-datahub-access to manage list of repositories you can push to from this location\n",
      "Tip: Use https:// URLs to clone and push to repos, not ssh URLs!\n"
     ]
    }
   ],
   "source": [
    "import gh_scoped_creds\n",
    "%ghscopedcreds"
   ]
  },
  {
   "cell_type": "code",
   "execution_count": null,
   "id": "bf31a33e-4be2-41f1-8679-b293864a56f8",
   "metadata": {},
   "outputs": [],
   "source": []
  }
 ],
 "metadata": {
  "kernelspec": {
   "display_name": "Python 3 (ipykernel)",
   "language": "python",
   "name": "python3"
  },
  "language_info": {
   "codemirror_mode": {
    "name": "ipython",
    "version": 3
   },
   "file_extension": ".py",
   "mimetype": "text/x-python",
   "name": "python",
   "nbconvert_exporter": "python",
   "pygments_lexer": "ipython3",
   "version": "3.12.0"
  }
 },
 "nbformat": 4,
 "nbformat_minor": 5
}
