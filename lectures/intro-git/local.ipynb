{
 "cells": [
  {
   "cell_type": "markdown",
   "id": "6842b3a0-5390-40c5-bf89-0f2da5dc6461",
   "metadata": {},
   "source": [
    "# Local, single-user, linear workflow"
   ]
  },
  {
   "cell_type": "code",
   "execution_count": null,
   "id": "2a1ce8c6-d20e-441e-a9f0-093f25cadf9d",
   "metadata": {},
   "outputs": [],
   "source": []
  }
 ],
 "metadata": {
  "kernelspec": {
   "display_name": "Python 3 (ipykernel)",
   "language": "python",
   "name": "python3"
  },
  "language_info": {
   "codemirror_mode": {
    "name": "ipython",
    "version": 3
   },
   "file_extension": ".py",
   "mimetype": "text/x-python",
   "name": "python",
   "nbconvert_exporter": "python",
   "pygments_lexer": "ipython3",
   "version": "3.10.8"
  }
 },
 "nbformat": 4,
 "nbformat_minor": 5
}
