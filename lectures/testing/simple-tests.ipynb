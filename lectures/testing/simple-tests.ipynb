{
 "cells": [
  {
   "cell_type": "markdown",
   "id": "7bf11905-8c91-4778-82d2-13c527f8230c",
   "metadata": {},
   "source": [
    "# Testing in notebooks\n",
    "\n",
    "https://medium.com/@mefengl/using-pytest-in-jupyter-notebooks-a-practical-guide-1ba8e02af288\n",
    "\n",
    "https://github.com/chmp/ipytest\n"
   ]
  },
  {
   "cell_type": "code",
   "execution_count": 31,
   "id": "7e01982e-ee77-4b92-a67a-14644a209418",
   "metadata": {},
   "outputs": [],
   "source": [
    "import ipytest\n",
    "ipytest.autoconfig()"
   ]
  },
  {
   "cell_type": "code",
   "execution_count": 41,
   "id": "bff997e3-a44c-43b5-9d51-98ffcc301a45",
   "metadata": {},
   "outputs": [
    {
     "name": "stdout",
     "output_type": "stream",
     "text": [
      "\u001b[32m.\u001b[0m\u001b[32m                                                                                            [100%]\u001b[0m\n"
     ]
    }
   ],
   "source": [
    "%%ipytest -qq -W ignore::DeprecationWarning\n",
    "\n",
    "def test_addition():\n",
    "    assert 1 + 1 == 2"
   ]
  },
  {
   "cell_type": "code",
   "execution_count": 42,
   "id": "08efe5dc-920b-4ee8-866a-548590667796",
   "metadata": {},
   "outputs": [
    {
     "name": "stdout",
     "output_type": "stream",
     "text": [
      "\u001b[32m.\u001b[0m\u001b[32m                                                                                            [100%]\u001b[0m\n",
      "\u001b[32m\u001b[32m\u001b[1m1 passed\u001b[0m\u001b[32m in 0.01s\u001b[0m\u001b[0m\n"
     ]
    },
    {
     "data": {
      "text/plain": [
       "<ExitCode.OK: 0>"
      ]
     },
     "execution_count": 42,
     "metadata": {},
     "output_type": "execute_result"
    }
   ],
   "source": [
    "ipytest.run('-W ignore::DeprecationWarning')"
   ]
  },
  {
   "cell_type": "code",
   "execution_count": 43,
   "id": "50a5c4d7-edab-4b38-9dc4-f072f729066a",
   "metadata": {},
   "outputs": [],
   "source": [
    "def test_bad():\n",
    "    assert 1 == 0\n",
    "\n",
    "def test_crash():\n",
    "    1/0"
   ]
  },
  {
   "cell_type": "code",
   "execution_count": 44,
   "id": "c013a793-6127-4e1a-88f3-4f5f829c15aa",
   "metadata": {},
   "outputs": [
    {
     "name": "stdout",
     "output_type": "stream",
     "text": [
      "\u001b[32m.\u001b[0m\u001b[31mF\u001b[0m\u001b[31mF\u001b[0m\u001b[31m                                                                                          [100%]\u001b[0m\n",
      "============================================= FAILURES =============================================\n",
      "\u001b[31m\u001b[1m_____________________________________________ test_bad _____________________________________________\u001b[0m\n",
      "\n",
      "    \u001b[0m\u001b[94mdef\u001b[39;49;00m \u001b[92mtest_bad\u001b[39;49;00m():\u001b[90m\u001b[39;49;00m\n",
      ">       \u001b[94massert\u001b[39;49;00m \u001b[94m1\u001b[39;49;00m == \u001b[94m0\u001b[39;49;00m\u001b[90m\u001b[39;49;00m\n",
      "\u001b[1m\u001b[31mE       assert 1 == 0\u001b[0m\n",
      "\n",
      "\u001b[1m\u001b[31m/tmp/ipykernel_1572/714497975.py\u001b[0m:2: AssertionError\n",
      "\u001b[31m\u001b[1m____________________________________________ test_crash ____________________________________________\u001b[0m\n",
      "\n",
      "    \u001b[0m\u001b[94mdef\u001b[39;49;00m \u001b[92mtest_crash\u001b[39;49;00m():\u001b[90m\u001b[39;49;00m\n",
      ">       \u001b[94m1\u001b[39;49;00m/\u001b[94m0\u001b[39;49;00m\u001b[90m\u001b[39;49;00m\n",
      "\u001b[1m\u001b[31mE       ZeroDivisionError: division by zero\u001b[0m\n",
      "\n",
      "\u001b[1m\u001b[31m/tmp/ipykernel_1572/714497975.py\u001b[0m:5: ZeroDivisionError\n",
      "\u001b[36m\u001b[1m===================================== short test summary info ======================================\u001b[0m\n",
      "\u001b[31mFAILED\u001b[0m t_c49c2854a2704fe79e6cc3ba458c255f.py::\u001b[1mtest_bad\u001b[0m - assert 1 == 0\n",
      "\u001b[31mFAILED\u001b[0m t_c49c2854a2704fe79e6cc3ba458c255f.py::\u001b[1mtest_crash\u001b[0m - ZeroDivisionError: division by zero\n",
      "\u001b[31m\u001b[31m\u001b[1m2 failed\u001b[0m, \u001b[32m1 passed\u001b[0m\u001b[31m in 0.02s\u001b[0m\u001b[0m\n"
     ]
    },
    {
     "data": {
      "text/plain": [
       "<ExitCode.TESTS_FAILED: 1>"
      ]
     },
     "execution_count": 44,
     "metadata": {},
     "output_type": "execute_result"
    }
   ],
   "source": [
    "ipytest.run('-W ignore::DeprecationWarning')"
   ]
  },
  {
   "cell_type": "code",
   "execution_count": null,
   "id": "b2d354de-ff59-4dac-a2bf-b5c2fb1b3f3d",
   "metadata": {},
   "outputs": [],
   "source": []
  }
 ],
 "metadata": {
  "kernelspec": {
   "display_name": "Python 3 (ipykernel)",
   "language": "python",
   "name": "python3"
  },
  "language_info": {
   "codemirror_mode": {
    "name": "ipython",
    "version": 3
   },
   "file_extension": ".py",
   "mimetype": "text/x-python",
   "name": "python",
   "nbconvert_exporter": "python",
   "pygments_lexer": "ipython3",
   "version": "3.12.0"
  }
 },
 "nbformat": 4,
 "nbformat_minor": 5
}
