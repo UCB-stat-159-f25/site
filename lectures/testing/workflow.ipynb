{
 "cells": [
  {
   "cell_type": "markdown",
   "id": "502eb2a4-99d8-4bb4-bb8e-0a9b08353cd4",
   "metadata": {
    "user_expressions": []
   },
   "source": [
    "## Workflow and Automation\n",
    "\n",
    "In the previous lecture we have introduced diferent types of test and how to diagnose our code. In this lecture, we will see how these tools get integrated in a continuous workflow that we can feed so we can perform our test periodically and automatically. "
   ]
  },
  {
   "cell_type": "markdown",
   "id": "56954762-9a48-4a6c-ab85-ccaaa0f30f43",
   "metadata": {
    "tags": [],
    "user_expressions": []
   },
   "source": [
    "## 1. Running test automatically with PyTest\n",
    "\n",
    "Let's see how to automatically run our tests using a test runner. There are different test runners supported in Python, including `unittest`, `nose` and `pytest`. For the purposes of this lecture, we will cover just `pytest`.\n",
    "\n",
    "Let's comeback to our toy example for a small Python package. For this, we can use the contents in the repository `eratosthenes` located in the GitHub organization. You can also use for reference our [mytoy](https://github.com/fperez/mytoy) package. "
   ]
  },
  {
   "cell_type": "markdown",
   "id": "6e16a8e5-e56d-4d73-a103-18e79f9ef3be",
   "metadata": {
    "user_expressions": []
   },
   "source": [
    "### 1.1. Running local tests"
   ]
  },
  {
   "cell_type": "markdown",
   "id": "25371172-66ea-4321-afef-91fef76f0bec",
   "metadata": {
    "user_expressions": []
   },
   "source": [
    "Let's now grab the code from our previous lecture on [Buiding Block](building-blocks.ipynb) and move to two different python scripts, one called `division.py` that inclides the function `division()` and other one called `test_division.py` with some simple unit tests. Don't forget to do the necessary imports! Remember that `test_division.py` needs to import the functions from `division.py`.\n",
    "\n",
    "Once this setup is correct, you can directly run the `pytest` suite by typing `pystes`  in the terminal. This is how this should look like:"
   ]
  },
  {
   "cell_type": "code",
   "execution_count": 7,
   "id": "36a53253-59fc-4655-9178-179c83c89818",
   "metadata": {},
   "outputs": [
    {
     "name": "stdout",
     "output_type": "stream",
     "text": [
      "\u001b[1m============================= test session starts ==============================\u001b[0m\n",
      "platform linux -- Python 3.10.8, pytest-7.2.1, pluggy-1.0.0\n",
      "rootdir: /home/jovyan/myGH/stat159-site/lectures/testing/division_testing\n",
      "plugins: cov-4.0.0, notebook-0.6.1, anyio-3.6.2\n",
      "collected 3 items\n",
      "\n",
      "test_division.py \u001b[32m.\u001b[0m\u001b[32m.\u001b[0m\u001b[32m.\u001b[0m\u001b[32m                                                     [100%]\u001b[0m\n",
      "\n",
      "\u001b[32m============================== \u001b[32m\u001b[1m3 passed\u001b[0m\u001b[32m in 0.22s\u001b[0m\u001b[32m ===============================\u001b[0m\n"
     ]
    }
   ],
   "source": [
    "%%bash\n",
    "cd division_testing\n",
    "pytest"
   ]
  },
  {
   "cell_type": "markdown",
   "id": "b81cf9c5-62cd-49d8-96ba-9b7614843343",
   "metadata": {
    "user_expressions": []
   },
   "source": [
    "In order to this to work, all tests must have names of the form `[Tt]est[-_]*`. We can also add more features to the test suite by adding new flags/arguments (see `pytest -h`  for more instructions). For example,  "
   ]
  },
  {
   "cell_type": "code",
   "execution_count": 8,
   "id": "5119de96-3e77-458e-b99c-b469e6cc2bd7",
   "metadata": {
    "user_expressions": []
   },
   "outputs": [
    {
     "name": "stdout",
     "output_type": "stream",
     "text": [
      "\u001b[1m============================= test session starts ==============================\u001b[0m\n",
      "platform linux -- Python 3.10.8, pytest-7.2.1, pluggy-1.0.0 -- /srv/conda/envs/notebook/bin/python3.1\n",
      "cachedir: .pytest_cache\n",
      "rootdir: /home/jovyan/myGH/stat159-site/lectures/testing/division_testing\n",
      "plugins: cov-4.0.0, notebook-0.6.1, anyio-3.6.2\n",
      "\u001b[1mcollecting ... \u001b[0mcollected 3 items\n",
      "\n",
      "test_division.py::test_float_division \u001b[32mPASSED\u001b[0m\u001b[32m                             [ 33%]\u001b[0m\n",
      "test_division.py::test_int_division \u001b[32mPASSED\u001b[0m\u001b[32m                               [ 66%]\u001b[0m\n",
      "test_division.py::test_neg_division \u001b[32mPASSED\u001b[0m\u001b[32m                               [100%]\u001b[0m\n",
      "\n",
      "\u001b[32m============================== \u001b[32m\u001b[1m3 passed\u001b[0m\u001b[32m in 0.20s\u001b[0m\u001b[32m ===============================\u001b[0m\n"
     ]
    }
   ],
   "source": [
    "%%bash\n",
    "cd division_testing\n",
    "pytest -v"
   ]
  },
  {
   "cell_type": "markdown",
   "id": "9854f16f-cdcb-4845-b91e-ef5afc9e4697",
   "metadata": {
    "user_expressions": []
   },
   "source": [
    "### 1.2. Test suite for an installable package\n",
    "\n",
    "Now, we can run the same pipeline but in existing libraries. For example, we can test the numpy library by running `pytest` inside it. "
   ]
  },
  {
   "cell_type": "markdown",
   "id": "7bb932ac-e935-4403-8279-4fb213c33236",
   "metadata": {
    "user_expressions": []
   },
   "source": [
    "```{warning}\n",
    "Be sure to be using the right version of PyTest!\n",
    "```"
   ]
  },
  {
   "cell_type": "markdown",
   "id": "658d3316-614a-4879-ae2a-96cfaadc7433",
   "metadata": {
    "user_expressions": []
   },
   "source": [
    "```{note}\n",
    "Test coverage\n",
    "```"
   ]
  },
  {
   "cell_type": "markdown",
   "id": "9c672842-89ad-49b6-8792-fc019fbe9e39",
   "metadata": {
    "user_expressions": []
   },
   "source": [
    "## Continuous Integration"
   ]
  },
  {
   "cell_type": "code",
   "execution_count": null,
   "id": "acf66657-4100-4477-bf56-b9acf89f9cde",
   "metadata": {},
   "outputs": [],
   "source": []
  },
  {
   "cell_type": "code",
   "execution_count": null,
   "id": "76115496-47f2-47dc-9714-bfe4a58b1c28",
   "metadata": {},
   "outputs": [],
   "source": []
  },
  {
   "cell_type": "code",
   "execution_count": null,
   "id": "56ba59f0-3759-405e-9816-d01b601e5355",
   "metadata": {},
   "outputs": [],
   "source": []
  },
  {
   "cell_type": "markdown",
   "id": "d787c1a4-c595-4b1a-9eda-ab1c85731de6",
   "metadata": {
    "tags": [],
    "user_expressions": []
   },
   "source": [
    "## References\n",
    "\n",
    "- Carpentries\n",
    "- https://realpython.com/python-testing/"
   ]
  },
  {
   "cell_type": "code",
   "execution_count": null,
   "id": "facaefb7-506f-4787-953b-396702e4d887",
   "metadata": {},
   "outputs": [],
   "source": []
  }
 ],
 "metadata": {
  "kernelspec": {
   "display_name": "Python 3 (ipykernel)",
   "language": "python",
   "name": "python3"
  },
  "language_info": {
   "codemirror_mode": {
    "name": "ipython",
    "version": 3
   },
   "file_extension": ".py",
   "mimetype": "text/x-python",
   "name": "python",
   "nbconvert_exporter": "python",
   "pygments_lexer": "ipython3",
   "version": "3.10.8"
  }
 },
 "nbformat": 4,
 "nbformat_minor": 5
}
