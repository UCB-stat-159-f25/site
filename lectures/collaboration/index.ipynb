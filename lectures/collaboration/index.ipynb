{
 "cells": [
  {
   "cell_type": "markdown",
   "id": "6b64d108-4116-450b-8872-900117a91414",
   "metadata": {
    "user_expressions": []
   },
   "source": [
    "# Collaboration\n",
    "\n",
    "In this section, we are going to explore different ways of engaging in collaborative workflow. This includes good practices we can include at the moment of working together under the umbrella of the same GitHub project. However, collaboration requires the use of the right tools in the right way. "
   ]
  },
  {
   "cell_type": "code",
   "execution_count": null,
   "id": "c1a6433b-ba10-41ab-8469-3f90c652eace",
   "metadata": {},
   "outputs": [],
   "source": []
  }
 ],
 "metadata": {
  "kernelspec": {
   "display_name": "Python 3 (ipykernel)",
   "language": "python",
   "name": "python3"
  },
  "language_info": {
   "codemirror_mode": {
    "name": "ipython",
    "version": 3
   },
   "file_extension": ".py",
   "mimetype": "text/x-python",
   "name": "python",
   "nbconvert_exporter": "python",
   "pygments_lexer": "ipython3",
   "version": "3.10.8"
  }
 },
 "nbformat": 4,
 "nbformat_minor": 5
}
