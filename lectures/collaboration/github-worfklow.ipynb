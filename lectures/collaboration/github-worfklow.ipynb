{
 "cells": [
  {
   "cell_type": "markdown",
   "id": "ed1cbb3d-7cf8-4b23-8ec7-60351b47b1a5",
   "metadata": {
    "user_expressions": []
   },
   "source": [
    "# Working in teams on GitHub\n",
    "\n",
    "Altought we don't need to became experts in git and Github, it is important to understand how it works and, more important, start developing good practices and workflows at the moment of working under version control with other people. \n",
    "\n",
    "A very common quote in the open source community is\n",
    "> \"Release early, release often\"\n",
    "\n",
    "Why is this? Because this will provide me with feedback from the community that will furthermore help moving the software forward. This is very different than the secretive way many times traditional science tend to work. Not doing this encourages bad practices. \n",
    "\n",
    "Another popular quote from know as Linus's Law is \n",
    "> \"Given enough eyeballs, all bugs are shallow\". \n",
    "\n",
    "This is very similar to the other quote: with more people looking at more code, the changes of making big mistakes are smaller and the software becomes more robust. This doesn't mean that our code will \n",
    "\n",
    "These two capture a key principle: share your work openly from as early as possible, and thus get more people to look at your work, and the result will be better.  Trick is - how do we put this in practice? The trick is to use \n",
    "\n",
    "- Git, with remotes, connects your local workflow to the cloud. \n",
    "- In the cloud, GitHub (and other similar services like GitLab) becomes your point for collaboration.\n",
    "\n",
    "In all this, _communication is key_. Git is only a technical tool that helps you manage a kind of data (the contents of your repository). It is not a replacement for working with humans - **that's your job!**\n",
    "\n",
    "\n",
    "```{note}\n",
    "Create good scientific culture \n",
    "```"
   ]
  },
  {
   "cell_type": "markdown",
   "id": "17d5ed31-dd8b-4acd-b1fb-0a7c8885f3ee",
   "metadata": {
    "user_expressions": []
   },
   "source": [
    "## Key habits to pick up\n",
    "\n",
    "\n",
    "Project management "
   ]
  },
  {
   "cell_type": "markdown",
   "id": "3b805aa3-859c-47fc-855e-dd55ddb0f9e0",
   "metadata": {
    "user_expressions": []
   },
   "source": [
    "### Good atomic commits\n",
    "\n",
    "Just like the original word atomic that means _indivisible_, this means that we should make commits that express one single idea or implementation. This doesn't necessarily means that we need to commit small changes, but instead each commit implements a new change. Also, we want this commit to have a short message (the standard is less that XX lines). After the first line of the commit message, we can add a longer description. "
   ]
  },
  {
   "cell_type": "markdown",
   "id": "64f3cb2f-16f9-4ac3-9edc-da239b2eccf3",
   "metadata": {
    "user_expressions": []
   },
   "source": [
    "### Group commits in branches that address one problem at a time\n",
    "\n",
    "Having multiple branches allow us to work in multiple problems at the same time, making atomic changes on each one of them as we make progress but also allowing different lines of work to progress independently. Having multiple branches allow us to explore the evolution of the progress much better and in a non-linear fashion. Remember that branches can always being merged, so eventually we can combine different stories of project into the same commit. "
   ]
  },
  {
   "cell_type": "markdown",
   "id": "d722b771-24ef-4fd7-94b2-e945f93661df",
   "metadata": {
    "user_expressions": []
   },
   "source": [
    "### Pull Requests\n",
    "\n",
    "When ready for feedback, make a Pull Request (PR) for this work. When you are already to share your code with others, you don't just update the main repository or code. Furthermore, I don't just update one single commit at the time. Instead, we create what is know as a pull request. A pull request means that one user is _requesting_ to some other users to _review_ some changes and eventually approve those changes. An advantage of doing this is that GitHub allow us to maintain an communication between the parts in which feedback and comment can be done. Further changes can be implemented until the pull requests go approved. Also, think in cases where the new changes need to be tested before being incorporated. The moment for running and checking the tests is the PR, where we can also make the changes until all potential checks pass. \n",
    "\n",
    "As we mentioned before, a pull request opens a conversation between the part that is bringing the new implementation and the current maintainers of the software. Either for small and large groups, this parts could be composed by the same or different people. This is why your PR should summarize the overall purpose of the work.\n",
    "\n",
    "Make plots for this part, with the remote. "
   ]
  },
  {
   "cell_type": "markdown",
   "id": "d7be4fee-0114-4fd1-81ab-8ee3e63eb8ce",
   "metadata": {
    "user_expressions": []
   },
   "source": [
    "### Issues \n",
    "\n",
    "When appropriate, create an open issue to track specific questions and problems to work on (see for example how a new, relatively small project like MyST [does it](https://github.com/executablebooks/jupyterlab-myst/issues)). An issues is also atomic: it's a message that address one single problem, question, concern or sometimes even new features that we want to implement. The goal of the issue is to start a conversation without code. \n",
    "\n",
    "\n",
    "You can [`close #nn`](https://docs.github.com/en/issues/tracking-your-work-with-issues/linking-a-pull-request-to-an-issue) issues via specific commits or in the merge commit of a PR.\n",
    "\n",
    "For this to work well, you need an `upstream` repository for the common work, and your personal `origin` one. For example:\n",
    "  \n",
    "```bash\n",
    "(base) (staging)longs[stat159]> git remote -v\n",
    "origin\tgit@github.com:fperez/datahub.git (fetch)\n",
    "origin\tgit@github.com:fperez/datahub.git (push)\n",
    "upstream\tgit@github.com:berkeley-dsep-infra/datahub.git (fetch)\n",
    "upstream\tgit@github.com:berkeley-dsep-infra/datahub.git (push)\n",
    "```\n",
    "\n",
    "This separates your personal workspace from that of the team, and it's a good habit to get into even if you have direct commit rights to the group workspace."
   ]
  },
  {
   "cell_type": "markdown",
   "id": "25aec941-030a-47cf-a470-56d9f3d414de",
   "metadata": {
    "user_expressions": []
   },
   "source": [
    "## Main points of collaboration on a GitHub repo\n",
    "\n",
    "* [Issues](https://github.com/CryoInTheCloud/hub-image/issues)\n",
    "* [Pull Requests](https://github.com/CryoInTheCloud/hub-image/pulls)\n",
    "* [Projects](https://github.com/CryoInTheCloud/hub-image/projects)\n",
    "* [Discussions](https://docs.github.com/en/discussions/quickstart). This one is a bigger decision for larger communities, see for example [Jupyter Discourse](https://discourse.jupyter.org).\n"
   ]
  },
  {
   "cell_type": "code",
   "execution_count": null,
   "id": "82108f46-3b1e-4385-80a7-40aea9262fc8",
   "metadata": {},
   "outputs": [],
   "source": []
  }
 ],
 "metadata": {
  "kernelspec": {
   "display_name": "Python 3 (ipykernel)",
   "language": "python",
   "name": "python3"
  },
  "language_info": {
   "codemirror_mode": {
    "name": "ipython",
    "version": 3
   },
   "file_extension": ".py",
   "mimetype": "text/x-python",
   "name": "python",
   "nbconvert_exporter": "python",
   "pygments_lexer": "ipython3",
   "version": "3.10.8"
  }
 },
 "nbformat": 4,
 "nbformat_minor": 5
}
