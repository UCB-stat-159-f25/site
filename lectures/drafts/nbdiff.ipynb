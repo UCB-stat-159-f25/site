{
 "cells": [
  {
   "cell_type": "markdown",
   "id": "e4a0d825-a42c-4a6e-8595-477ce61bc1eb",
   "metadata": {},
   "source": [
    "# nbdime - version control for Jupyter notebooks\n",
    "\n",
    "Documentation: https://nbdime.readthedocs.io\n",
    "\n"
   ]
  },
  {
   "cell_type": "markdown",
   "id": "6d979a89-c65f-46a2-8c93-861cd68cc577",
   "metadata": {},
   "source": [
    "# Accessing nbdime on the hub\n",
    "\n",
    "The `nbdiff-web` command should be executed with these parameters:\n",
    "\n",
    "```\n",
    "nbdiff-web --ip 0.0.0.0 -p 9999 --base-url /user/$JUPYTERHUB_USER/proxy/absolute/9999\n",
    "```\n",
    "\n",
    "in the folder where the file to diff resides. And then the following URL should be accessed:\n",
    "\n",
    "https://stat159.datahub.berkeley.edu/user-redirect/proxy/absolute/9999/difftool"
   ]
  },
  {
   "cell_type": "markdown",
   "id": "31f4da8d-b483-4022-b7a7-e39e4d3cbbc3",
   "metadata": {},
   "source": [
    "## Code to semi-automate the above\n",
    "\n",
    "First, define the command to run:"
   ]
  },
  {
   "cell_type": "code",
   "execution_count": 1,
   "id": "6a05124f-aaf5-405e-abdf-dc5e6bf808c0",
   "metadata": {},
   "outputs": [],
   "source": [
    "nbdiff_web = \"nbdiff-web --ip 0.0.0.0 -p 9999 --base-url /user/$JUPYTERHUB_USER/proxy/absolute/9999\""
   ]
  },
  {
   "cell_type": "markdown",
   "id": "b9394820-e814-4920-9091-52f35ce680e6",
   "metadata": {},
   "source": [
    "Next, define the location of the file/directory we want to diff:"
   ]
  },
  {
   "cell_type": "code",
   "execution_count": 2,
   "id": "4524560b-f280-44fd-8560-16d2b43766a4",
   "metadata": {},
   "outputs": [],
   "source": [
    "folder = \"$HOME/159/homework-dev/hw/hw01\"\n",
    "file1  = \"hw01-python-starters.ipynb\"\n",
    "file2  = \"\"\n",
    "\n",
    "folder = \"$HOME/159/site/lectures/drafts/\"\n",
    "file1  = \"nb1.ipynb\"\n",
    "file2  = \"nb2.ipynb\""
   ]
  },
  {
   "cell_type": "markdown",
   "id": "1fd8074d-b6e4-4d92-be3f-9fb5a4fec017",
   "metadata": {
    "user_expressions": []
   },
   "source": [
    "Now, the following command should do the trick. The kernel will stay blocked until interrupted.\n",
    "\n",
    "Once you run the command, visit this URL to see the diff:\n",
    "\n",
    "https://stat159.datahub.berkeley.edu/user-redirect/proxy/absolute/9999/difftool"
   ]
  },
  {
   "cell_type": "code",
   "execution_count": null,
   "id": "ab0cc101-48d5-440f-aa97-da3064d4c13f",
   "metadata": {},
   "outputs": [
    {
     "name": "stdout",
     "output_type": "stream",
     "text": [
      "cd /home/jovyan/159/site/lectures/drafts/\n",
      "nbdiff-web --ip 0.0.0.0 -p 9999 --base-url /user/fernando.perez/proxy/absolute/9999 nb1.ipynb nb2.ipynb\n",
      "[I nbdimeserver:416] Listening on 0.0.0.0, port 9999\n",
      "[I webutil:29] URL: http://127.0.0.1:9999/user/fernando.perez/proxy/absolute/9999/diff?base=nb1.ipynb&remote=nb2.ipynb\n",
      "[W warnings:109] /srv/conda/envs/notebook/lib/python3.10/site-packages/jupyter_server/base/handlers.py:240: UserWarning: The Tornado web application does not have an 'identity_provider' defined in its settings. In future releases of jupyter_server, this will be a required key for all subclasses of `JupyterHandler`. For an example, see the jupyter_server source code for how to add an identity provider to the tornado settings: https://github.com/jupyter-server/jupyter_server/blob/v2.0.0/jupyter_server/serverapp.py#L242\n",
      "  warnings.warn(\n",
      "\n",
      "[E web:1798] Uncaught exception GET /user/fernando.perez/proxy/absolute/9999/difftool?redirects=1 (127.0.0.1)\n",
      "HTTPServerRequest(protocol='http', host='stat159.datahub.berkeley.edu', method='GET', uri='/user/fernando.perez/proxy/absolute/9999/difftool?redirects=1', version='HTTP/1.1', remote_ip='127.0.0.1')\n",
      "Traceback (most recent call last):\n",
      "  File \"/srv/conda/envs/notebook/lib/python3.10/site-packages/tornado/web.py\", line 1692, in _execute\n",
      "    result = await result\n",
      "  File \"/srv/conda/envs/notebook/lib/python3.10/site-packages/jupyter_server/base/handlers.py\", line 608, in prepare\n",
      "    _user = await _user\n",
      "  File \"/srv/conda/envs/notebook/lib/python3.10/site-packages/jupyter_server/auth/identity.py\", line 240, in _get_user\n",
      "    _cookie_user = self.get_user_cookie(handler)\n",
      "  File \"/srv/conda/envs/notebook/lib/python3.10/site-packages/jupyter_server/auth/identity.py\", line 398, in get_user_cookie\n",
      "    _user_cookie = handler.get_secure_cookie(\n",
      "  File \"/srv/conda/envs/notebook/lib/python3.10/site-packages/tornado/web.py\", line 773, in get_secure_cookie\n",
      "    self.require_setting(\"cookie_secret\", \"secure cookies\")\n",
      "  File \"/srv/conda/envs/notebook/lib/python3.10/site-packages/tornado/web.py\", line 1592, in require_setting\n",
      "    raise Exception(\n",
      "Exception: You must define the 'cookie_secret' setting in your application to use secure cookies\n",
      "[E web:1221] Uncaught exception in write_error\n",
      "Traceback (most recent call last):\n",
      "  File \"/srv/conda/envs/notebook/lib/python3.10/site-packages/tornado/web.py\", line 1692, in _execute\n",
      "    result = await result\n",
      "  File \"/srv/conda/envs/notebook/lib/python3.10/site-packages/jupyter_server/base/handlers.py\", line 608, in prepare\n",
      "    _user = await _user\n",
      "  File \"/srv/conda/envs/notebook/lib/python3.10/site-packages/jupyter_server/auth/identity.py\", line 240, in _get_user\n",
      "    _cookie_user = self.get_user_cookie(handler)\n",
      "  File \"/srv/conda/envs/notebook/lib/python3.10/site-packages/jupyter_server/auth/identity.py\", line 398, in get_user_cookie\n",
      "    _user_cookie = handler.get_secure_cookie(\n",
      "  File \"/srv/conda/envs/notebook/lib/python3.10/site-packages/tornado/web.py\", line 773, in get_secure_cookie\n",
      "    self.require_setting(\"cookie_secret\", \"secure cookies\")\n",
      "  File \"/srv/conda/envs/notebook/lib/python3.10/site-packages/tornado/web.py\", line 1592, in require_setting\n",
      "    raise Exception(\n",
      "Exception: You must define the 'cookie_secret' setting in your application to use secure cookies\n",
      "\n",
      "During handling of the above exception, another exception occurred:\n",
      "\n",
      "Traceback (most recent call last):\n",
      "  File \"/srv/conda/envs/notebook/lib/python3.10/site-packages/tornado/web.py\", line 1219, in send_error\n",
      "    self.write_error(status_code, **kwargs)\n",
      "  File \"/srv/conda/envs/notebook/lib/python3.10/site-packages/nbdime/webapp/nbdimeserver.py\", line 72, in write_error\n",
      "    return super(NbdimeHandler, self).write_error(status_code, **kwargs)\n",
      "  File \"/srv/conda/envs/notebook/lib/python3.10/site-packages/jupyter_server/base/handlers.py\", line 705, in write_error\n",
      "    html = self.render_template(\"%s.html\" % status_code, **ns)\n",
      "  File \"/srv/conda/envs/notebook/lib/python3.10/site-packages/jupyter_server/base/handlers.py\", line 631, in render_template\n",
      "    ns.update(self.template_namespace)\n",
      "  File \"/srv/conda/envs/notebook/lib/python3.10/site-packages/jupyter_server/base/handlers.py\", line 641, in template_namespace\n",
      "    logged_in=self.logged_in,\n",
      "  File \"/srv/conda/envs/notebook/lib/python3.10/site-packages/jupyter_server/base/handlers.py\", line 185, in logged_in\n",
      "    user = self.current_user\n",
      "  File \"/srv/conda/envs/notebook/lib/python3.10/site-packages/tornado/web.py\", line 1345, in current_user\n",
      "    self._current_user = self.get_current_user()\n",
      "  File \"/srv/conda/envs/notebook/lib/python3.10/site-packages/jupyter_server/base/handlers.py\", line 164, in get_current_user\n",
      "    raise RuntimeError(msg)\n",
      "RuntimeError: Calling `MainDifftoolHandler.get_current_user()` directly is deprecated in jupyter-server 2.0. Use `self.current_user` instead (works in all versions).\n",
      "[E log:70] {\n",
      "  \"Host\": \"stat159.datahub.berkeley.edu\",\n",
      "  \"Accept\": \"text/html,application/xhtml+xml,application/xml;q=0.9,image/avif,image/webp,image/apng,*/*;q=0.8,application/signed-exchange;v=b3;q=0.7\",\n",
      "  \"User-Agent\": \"Mozilla/5.0 (Macintosh; Intel Mac OS X 10_15_7) AppleWebKit/537.36 (KHTML, like Gecko) Chrome/110.0.0.0 Safari/537.36\"\n",
      "}\n",
      "[E log:71] 500 GET /user/fernando.perez/proxy/absolute/9999/difftool?redirects=1 (@127.0.0.1) 3.01ms referer=None\n",
      "[E web:1798] Uncaught exception GET /user/fernando.perez/proxy/absolute/9999/ (127.0.0.1)\n",
      "HTTPServerRequest(protocol='http', host='stat159.datahub.berkeley.edu', method='GET', uri='/user/fernando.perez/proxy/absolute/9999/', version='HTTP/1.1', remote_ip='127.0.0.1')\n",
      "Traceback (most recent call last):\n",
      "  File \"/srv/conda/envs/notebook/lib/python3.10/site-packages/tornado/web.py\", line 1692, in _execute\n",
      "    result = await result\n",
      "  File \"/srv/conda/envs/notebook/lib/python3.10/site-packages/jupyter_server/base/handlers.py\", line 608, in prepare\n",
      "    _user = await _user\n",
      "  File \"/srv/conda/envs/notebook/lib/python3.10/site-packages/jupyter_server/auth/identity.py\", line 240, in _get_user\n",
      "    _cookie_user = self.get_user_cookie(handler)\n",
      "  File \"/srv/conda/envs/notebook/lib/python3.10/site-packages/jupyter_server/auth/identity.py\", line 398, in get_user_cookie\n",
      "    _user_cookie = handler.get_secure_cookie(\n",
      "  File \"/srv/conda/envs/notebook/lib/python3.10/site-packages/tornado/web.py\", line 773, in get_secure_cookie\n",
      "    self.require_setting(\"cookie_secret\", \"secure cookies\")\n",
      "  File \"/srv/conda/envs/notebook/lib/python3.10/site-packages/tornado/web.py\", line 1592, in require_setting\n",
      "    raise Exception(\n",
      "Exception: You must define the 'cookie_secret' setting in your application to use secure cookies\n",
      "[E web:1221] Uncaught exception in write_error\n",
      "Traceback (most recent call last):\n",
      "  File \"/srv/conda/envs/notebook/lib/python3.10/site-packages/tornado/web.py\", line 1692, in _execute\n",
      "    result = await result\n",
      "  File \"/srv/conda/envs/notebook/lib/python3.10/site-packages/jupyter_server/base/handlers.py\", line 608, in prepare\n",
      "    _user = await _user\n",
      "  File \"/srv/conda/envs/notebook/lib/python3.10/site-packages/jupyter_server/auth/identity.py\", line 240, in _get_user\n",
      "    _cookie_user = self.get_user_cookie(handler)\n",
      "  File \"/srv/conda/envs/notebook/lib/python3.10/site-packages/jupyter_server/auth/identity.py\", line 398, in get_user_cookie\n",
      "    _user_cookie = handler.get_secure_cookie(\n",
      "  File \"/srv/conda/envs/notebook/lib/python3.10/site-packages/tornado/web.py\", line 773, in get_secure_cookie\n",
      "    self.require_setting(\"cookie_secret\", \"secure cookies\")\n",
      "  File \"/srv/conda/envs/notebook/lib/python3.10/site-packages/tornado/web.py\", line 1592, in require_setting\n",
      "    raise Exception(\n",
      "Exception: You must define the 'cookie_secret' setting in your application to use secure cookies\n",
      "\n",
      "During handling of the above exception, another exception occurred:\n",
      "\n",
      "Traceback (most recent call last):\n",
      "  File \"/srv/conda/envs/notebook/lib/python3.10/site-packages/tornado/web.py\", line 1219, in send_error\n",
      "    self.write_error(status_code, **kwargs)\n",
      "  File \"/srv/conda/envs/notebook/lib/python3.10/site-packages/nbdime/webapp/nbdimeserver.py\", line 72, in write_error\n",
      "    return super(NbdimeHandler, self).write_error(status_code, **kwargs)\n",
      "  File \"/srv/conda/envs/notebook/lib/python3.10/site-packages/jupyter_server/base/handlers.py\", line 705, in write_error\n",
      "    html = self.render_template(\"%s.html\" % status_code, **ns)\n",
      "  File \"/srv/conda/envs/notebook/lib/python3.10/site-packages/jupyter_server/base/handlers.py\", line 631, in render_template\n",
      "    ns.update(self.template_namespace)\n",
      "  File \"/srv/conda/envs/notebook/lib/python3.10/site-packages/jupyter_server/base/handlers.py\", line 641, in template_namespace\n",
      "    logged_in=self.logged_in,\n",
      "  File \"/srv/conda/envs/notebook/lib/python3.10/site-packages/jupyter_server/base/handlers.py\", line 185, in logged_in\n",
      "    user = self.current_user\n",
      "  File \"/srv/conda/envs/notebook/lib/python3.10/site-packages/tornado/web.py\", line 1345, in current_user\n",
      "    self._current_user = self.get_current_user()\n",
      "  File \"/srv/conda/envs/notebook/lib/python3.10/site-packages/jupyter_server/base/handlers.py\", line 164, in get_current_user\n",
      "    raise RuntimeError(msg)\n",
      "RuntimeError: Calling `MainHandler.get_current_user()` directly is deprecated in jupyter-server 2.0. Use `self.current_user` instead (works in all versions).\n",
      "[E log:70] {\n",
      "  \"Host\": \"stat159.datahub.berkeley.edu\",\n",
      "  \"Accept\": \"text/html,application/xhtml+xml,application/xml;q=0.9,image/avif,image/webp,image/apng,*/*;q=0.8,application/signed-exchange;v=b3;q=0.7\",\n",
      "  \"User-Agent\": \"Mozilla/5.0 (Macintosh; Intel Mac OS X 10_15_7) AppleWebKit/537.36 (KHTML, like Gecko) Chrome/110.0.0.0 Safari/537.36\"\n",
      "}\n",
      "[E log:71] 500 GET /user/fernando.perez/proxy/absolute/9999/ (@127.0.0.1) 1.12ms referer=None\n",
      "[E web:1798] Uncaught exception GET /user/fernando.perez/proxy/absolute/9999/ (127.0.0.1)\n",
      "HTTPServerRequest(protocol='http', host='stat159.datahub.berkeley.edu', method='GET', uri='/user/fernando.perez/proxy/absolute/9999/', version='HTTP/1.1', remote_ip='127.0.0.1')\n",
      "Traceback (most recent call last):\n",
      "  File \"/srv/conda/envs/notebook/lib/python3.10/site-packages/tornado/web.py\", line 1692, in _execute\n",
      "    result = await result\n",
      "  File \"/srv/conda/envs/notebook/lib/python3.10/site-packages/jupyter_server/base/handlers.py\", line 608, in prepare\n",
      "    _user = await _user\n",
      "  File \"/srv/conda/envs/notebook/lib/python3.10/site-packages/jupyter_server/auth/identity.py\", line 240, in _get_user\n",
      "    _cookie_user = self.get_user_cookie(handler)\n",
      "  File \"/srv/conda/envs/notebook/lib/python3.10/site-packages/jupyter_server/auth/identity.py\", line 398, in get_user_cookie\n",
      "    _user_cookie = handler.get_secure_cookie(\n",
      "  File \"/srv/conda/envs/notebook/lib/python3.10/site-packages/tornado/web.py\", line 773, in get_secure_cookie\n",
      "    self.require_setting(\"cookie_secret\", \"secure cookies\")\n",
      "  File \"/srv/conda/envs/notebook/lib/python3.10/site-packages/tornado/web.py\", line 1592, in require_setting\n",
      "    raise Exception(\n",
      "Exception: You must define the 'cookie_secret' setting in your application to use secure cookies\n",
      "[E web:1221] Uncaught exception in write_error\n",
      "Traceback (most recent call last):\n",
      "  File \"/srv/conda/envs/notebook/lib/python3.10/site-packages/tornado/web.py\", line 1692, in _execute\n",
      "    result = await result\n",
      "  File \"/srv/conda/envs/notebook/lib/python3.10/site-packages/jupyter_server/base/handlers.py\", line 608, in prepare\n",
      "    _user = await _user\n",
      "  File \"/srv/conda/envs/notebook/lib/python3.10/site-packages/jupyter_server/auth/identity.py\", line 240, in _get_user\n",
      "    _cookie_user = self.get_user_cookie(handler)\n",
      "  File \"/srv/conda/envs/notebook/lib/python3.10/site-packages/jupyter_server/auth/identity.py\", line 398, in get_user_cookie\n",
      "    _user_cookie = handler.get_secure_cookie(\n",
      "  File \"/srv/conda/envs/notebook/lib/python3.10/site-packages/tornado/web.py\", line 773, in get_secure_cookie\n",
      "    self.require_setting(\"cookie_secret\", \"secure cookies\")\n",
      "  File \"/srv/conda/envs/notebook/lib/python3.10/site-packages/tornado/web.py\", line 1592, in require_setting\n",
      "    raise Exception(\n",
      "Exception: You must define the 'cookie_secret' setting in your application to use secure cookies\n",
      "\n",
      "During handling of the above exception, another exception occurred:\n",
      "\n",
      "Traceback (most recent call last):\n",
      "  File \"/srv/conda/envs/notebook/lib/python3.10/site-packages/tornado/web.py\", line 1219, in send_error\n",
      "    self.write_error(status_code, **kwargs)\n",
      "  File \"/srv/conda/envs/notebook/lib/python3.10/site-packages/nbdime/webapp/nbdimeserver.py\", line 72, in write_error\n",
      "    return super(NbdimeHandler, self).write_error(status_code, **kwargs)\n",
      "  File \"/srv/conda/envs/notebook/lib/python3.10/site-packages/jupyter_server/base/handlers.py\", line 705, in write_error\n",
      "    html = self.render_template(\"%s.html\" % status_code, **ns)\n",
      "  File \"/srv/conda/envs/notebook/lib/python3.10/site-packages/jupyter_server/base/handlers.py\", line 631, in render_template\n",
      "    ns.update(self.template_namespace)\n",
      "  File \"/srv/conda/envs/notebook/lib/python3.10/site-packages/jupyter_server/base/handlers.py\", line 641, in template_namespace\n",
      "    logged_in=self.logged_in,\n",
      "  File \"/srv/conda/envs/notebook/lib/python3.10/site-packages/jupyter_server/base/handlers.py\", line 185, in logged_in\n",
      "    user = self.current_user\n",
      "  File \"/srv/conda/envs/notebook/lib/python3.10/site-packages/tornado/web.py\", line 1345, in current_user\n",
      "    self._current_user = self.get_current_user()\n",
      "  File \"/srv/conda/envs/notebook/lib/python3.10/site-packages/jupyter_server/base/handlers.py\", line 164, in get_current_user\n",
      "    raise RuntimeError(msg)\n",
      "RuntimeError: Calling `MainHandler.get_current_user()` directly is deprecated in jupyter-server 2.0. Use `self.current_user` instead (works in all versions).\n",
      "[E log:70] {\n",
      "  \"Host\": \"stat159.datahub.berkeley.edu\",\n",
      "  \"Accept\": \"text/html,application/xhtml+xml,application/xml;q=0.9,image/avif,image/webp,image/apng,*/*;q=0.8,application/signed-exchange;v=b3;q=0.7\",\n",
      "  \"User-Agent\": \"Mozilla/5.0 (Macintosh; Intel Mac OS X 10_15_7) AppleWebKit/537.36 (KHTML, like Gecko) Chrome/110.0.0.0 Safari/537.36\"\n",
      "}\n",
      "[E log:71] 500 GET /user/fernando.perez/proxy/absolute/9999/ (@127.0.0.1) 1.11ms referer=None\n"
     ]
    }
   ],
   "source": [
    "!echo cd {folder}\n",
    "!echo {nbdiff_web} {file1} {file2}\n",
    "!cd {folder} && {nbdiff_web} {file1} {file2}"
   ]
  },
  {
   "cell_type": "code",
   "execution_count": null,
   "id": "21c0f558-beaf-4ba7-a119-c7c2f23f93d8",
   "metadata": {},
   "outputs": [],
   "source": []
  },
  {
   "cell_type": "markdown",
   "id": "4af9a633",
   "metadata": {},
   "source": [
    "# nbdime - version control for Jupyter notebooks\n",
    "\n",
    "Documentation: https://nbdime.readthedocs.io\n",
    "\n"
   ]
  },
  {
   "cell_type": "markdown",
   "id": "3db0d090",
   "metadata": {},
   "source": [
    "# Accessing nbdime on the hub\n",
    "\n",
    "The `nbdiff-web` command should be executed with these parameters:\n",
    "\n",
    "```\n",
    "nbdiff-web --ip 0.0.0.0 -p 9999 --base-url /user/$JUPYTERHUB_USER/proxy/absolute/9999\n",
    "```\n",
    "\n",
    "in the folder where the file to diff resides. And then the following URL should be accessed:\n",
    "\n",
    "https://stat159.datahub.berkeley.edu/user-redirect/proxy/absolute/9999/difftool"
   ]
  },
  {
   "cell_type": "markdown",
   "id": "008c4b6d",
   "metadata": {},
   "source": [
    "## Code to semi-automate the above\n",
    "\n",
    "First, define the command to run:"
   ]
  },
  {
   "cell_type": "code",
   "execution_count": null,
   "id": "b83ef1f2",
   "metadata": {},
   "outputs": [],
   "source": [
    "nbdiff_web = \"nbdiff-web --ip 0.0.0.0 -p 9999 --base-url /user/$JUPYTERHUB_USER/proxy/absolute/9999\""
   ]
  },
  {
   "cell_type": "markdown",
   "id": "595e274b",
   "metadata": {},
   "source": [
    "Next, define the location of the file/directory we want to diff:"
   ]
  },
  {
   "cell_type": "code",
   "execution_count": null,
   "id": "cf073c5e",
   "metadata": {},
   "outputs": [],
   "source": [
    "folder = \"$HOME/159/homework-dev/hw/hw01\"\n",
    "file1  = \"hw01-python-starters.ipynb\"\n",
    "file2  = \"\"\n",
    "\n",
    "folder = \"$HOME/159/site/lectures/jupyter-vc\"\n",
    "file1  = \"nb1.ipynb\"\n",
    "file2  = \"nb2.ipynb\""
   ]
  },
  {
   "cell_type": "markdown",
   "id": "2d98e09e",
   "metadata": {},
   "source": [
    "Now, the following command should do the trick. The kernel will stay blocked until interrupted.\n",
    "\n",
    "Once you run the command, visit this URL to see the diff:\n",
    "\n",
    "https://stat159.datahub.berkeley.edu/user-redirect/proxy/absolute/9999/difftool"
   ]
  },
  {
   "cell_type": "code",
   "execution_count": null,
   "id": "7bc7e233",
   "metadata": {},
   "outputs": [
    {
     "name": "stdout",
     "output_type": "stream",
     "text": [
      "cd /home/jovyan/159/site/lectures/jupyter-vc\n",
      "nbdiff-web --ip 0.0.0.0 -p 9999 --base-url /user/fernando.perez/proxy/absolute/9999 nb1.ipynb nb2.ipynb\n",
      "/srv/conda/envs/notebook/lib/python3.9/site-packages/jupyter_server_mathjax/app.py:40: FutureWarning: The alias `_()` will be deprecated. Use `_i18n()` instead.\n",
      "  help=_(\"\"\"The MathJax.js configuration file that is to be used.\"\"\"),\n",
      "[I nbdimeserver:416] Listening on 0.0.0.0, port 9999\n",
      "[W webutil:18] No web browser found: could not locate runnable browser.\n",
      "[I webutil:29] URL: http://127.0.0.1:9999/user/fernando.perez/proxy/absolute/9999/diff?base=nb1.ipynb&remote=nb2.ipynb\n",
      "^C\n",
      "Traceback (most recent call last):\n",
      "  File \"/srv/conda/envs/notebook/bin/nbdiff-web\", line 10, in <module>\n",
      "    sys.exit(main())\n",
      "  File \"/srv/conda/envs/notebook/lib/python3.9/site-packages/nbdime/webapp/nbdiffweb.py\", line 96, in main\n",
      "    return main_diff(opts)\n",
      "  File \"/srv/conda/envs/notebook/lib/python3.9/site-packages/nbdime/webapp/nbdiffweb.py\", line 83, in main_diff\n",
      "    return run_server(\n",
      "  File \"/srv/conda/envs/notebook/lib/python3.9/site-packages/nbdime/webapp/nbdimeserver.py\", line 438, in main_server\n",
      "    io_loop.start()\n",
      "  File \"/srv/conda/envs/notebook/lib/python3.9/site-packages/tornado/platform/asyncio.py\", line 199, in start\n",
      "    self.asyncio_loop.run_forever()\n",
      "  File \"/srv/conda/envs/notebook/lib/python3.9/asyncio/base_events.py\", line 596, in run_forever\n",
      "    self._run_once()\n",
      "  File \"/srv/conda/envs/notebook/lib/python3.9/asyncio/base_events.py\", line 1854, in _run_once\n",
      "    event_list = self._selector.select(timeout)\n",
      "  File \"/srv/conda/envs/notebook/lib/python3.9/selectors.py\", line 469, in select\n",
      "    fd_event_list = self._selector.poll(timeout, max_ev)\n",
      "KeyboardInterrupt\n"
     ]
    }
   ],
   "source": [
    "!echo cd {folder}\n",
    "!echo {nbdiff_web} {file1} {file2}\n",
    "!cd {folder} && {nbdiff_web} {file1} {file2}"
   ]
  },
  {
   "cell_type": "code",
   "execution_count": null,
   "id": "e135feb4",
   "metadata": {},
   "outputs": [],
   "source": []
  }
 ],
 "metadata": {
  "kernelspec": {
   "display_name": "Python 3 (ipykernel)",
   "language": "python",
   "name": "python3"
  },
  "language_info": {
   "codemirror_mode": {
    "name": "ipython",
    "version": 3
   },
   "file_extension": ".py",
   "mimetype": "text/x-python",
   "name": "python",
   "nbconvert_exporter": "python",
   "pygments_lexer": "ipython3",
   "version": "3.10.8"
  }
 },
 "nbformat": 4,
 "nbformat_minor": 5
}
