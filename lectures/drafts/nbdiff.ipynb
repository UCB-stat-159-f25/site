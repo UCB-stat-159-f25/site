{
 "cells": [
  {
   "cell_type": "markdown",
   "id": "e4a0d825-a42c-4a6e-8595-477ce61bc1eb",
   "metadata": {},
   "source": [
    "# nbdime - version control for Jupyter notebooks\n",
    "\n",
    "Documentation: https://nbdime.readthedocs.io\n",
    "\n"
   ]
  },
  {
   "cell_type": "markdown",
   "id": "6d979a89-c65f-46a2-8c93-861cd68cc577",
   "metadata": {},
   "source": [
    "# Accessing nbdime on the hub\n",
    "\n",
    "The `nbdiff-web` command should be executed with these parameters:\n",
    "\n",
    "```\n",
    "nbdiff-web --ip 0.0.0.0 -p 9999 --base-url /user/$JUPYTERHUB_USER/proxy/absolute/9999\n",
    "```\n",
    "\n",
    "in the folder where the file to diff resides. And then the following URL should be accessed:\n",
    "\n",
    "https://stat159.datahub.berkeley.edu/user-redirect/proxy/absolute/9999/difftool"
   ]
  },
  {
   "cell_type": "markdown",
   "id": "31f4da8d-b483-4022-b7a7-e39e4d3cbbc3",
   "metadata": {},
   "source": [
    "## Code to semi-automate the above\n",
    "\n",
    "First, define the command to run:"
   ]
  },
  {
   "cell_type": "code",
   "execution_count": null,
   "id": "6a05124f-aaf5-405e-abdf-dc5e6bf808c0",
   "metadata": {},
   "outputs": [],
   "source": [
    "nbdiff_web = \"nbdiff-web --ip 0.0.0.0 -p 9999 --base-url /user/$JUPYTERHUB_USER/proxy/absolute/9999\""
   ]
  },
  {
   "cell_type": "markdown",
   "id": "b9394820-e814-4920-9091-52f35ce680e6",
   "metadata": {},
   "source": [
    "Next, define the location of the file/directory we want to diff:"
   ]
  },
  {
   "cell_type": "code",
   "execution_count": null,
   "id": "4524560b-f280-44fd-8560-16d2b43766a4",
   "metadata": {},
   "outputs": [],
   "source": [
    "folder = \"$HOME/159/homework-dev/hw/hw01\"\n",
    "file1  = \"hw01-python-starters.ipynb\"\n",
    "file2  = \"\"\n",
    "\n",
    "folder = \"$HOME/159/site/lectures/jupyter-vc\"\n",
    "file1  = \"nb1.ipynb\"\n",
    "file2  = \"nb2.ipynb\""
   ]
  },
  {
   "cell_type": "markdown",
   "id": "1fd8074d-b6e4-4d92-be3f-9fb5a4fec017",
   "metadata": {},
   "source": [
    "Now, the following command should do the trick. The kernel will stay blocked until interrupted.\n",
    "\n",
    "Once you run the command, visit this URL to see the diff:\n",
    "\n",
    "https://stat159.datahub.berkeley.edu/user-redirect/proxy/absolute/9999/difftool"
   ]
  },
  {
   "cell_type": "code",
   "execution_count": null,
   "id": "ab0cc101-48d5-440f-aa97-da3064d4c13f",
   "metadata": {},
   "outputs": [
    {
     "name": "stdout",
     "output_type": "stream",
     "text": [
      "cd /home/jovyan/159/site/lectures/jupyter-vc\n",
      "nbdiff-web --ip 0.0.0.0 -p 9999 --base-url /user/fernando.perez/proxy/absolute/9999 nb1.ipynb nb2.ipynb\n",
      "/srv/conda/envs/notebook/lib/python3.9/site-packages/jupyter_server_mathjax/app.py:40: FutureWarning: The alias `_()` will be deprecated. Use `_i18n()` instead.\n",
      "  help=_(\"\"\"The MathJax.js configuration file that is to be used.\"\"\"),\n",
      "[I nbdimeserver:416] Listening on 0.0.0.0, port 9999\n",
      "[W webutil:18] No web browser found: could not locate runnable browser.\n",
      "[I webutil:29] URL: http://127.0.0.1:9999/user/fernando.perez/proxy/absolute/9999/diff?base=nb1.ipynb&remote=nb2.ipynb\n",
      "^C\n",
      "Traceback (most recent call last):\n",
      "  File \"/srv/conda/envs/notebook/bin/nbdiff-web\", line 10, in <module>\n",
      "    sys.exit(main())\n",
      "  File \"/srv/conda/envs/notebook/lib/python3.9/site-packages/nbdime/webapp/nbdiffweb.py\", line 96, in main\n",
      "    return main_diff(opts)\n",
      "  File \"/srv/conda/envs/notebook/lib/python3.9/site-packages/nbdime/webapp/nbdiffweb.py\", line 83, in main_diff\n",
      "    return run_server(\n",
      "  File \"/srv/conda/envs/notebook/lib/python3.9/site-packages/nbdime/webapp/nbdimeserver.py\", line 438, in main_server\n",
      "    io_loop.start()\n",
      "  File \"/srv/conda/envs/notebook/lib/python3.9/site-packages/tornado/platform/asyncio.py\", line 199, in start\n",
      "    self.asyncio_loop.run_forever()\n",
      "  File \"/srv/conda/envs/notebook/lib/python3.9/asyncio/base_events.py\", line 596, in run_forever\n",
      "    self._run_once()\n",
      "  File \"/srv/conda/envs/notebook/lib/python3.9/asyncio/base_events.py\", line 1854, in _run_once\n",
      "    event_list = self._selector.select(timeout)\n",
      "  File \"/srv/conda/envs/notebook/lib/python3.9/selectors.py\", line 469, in select\n",
      "    fd_event_list = self._selector.poll(timeout, max_ev)\n",
      "KeyboardInterrupt\n"
     ]
    }
   ],
   "source": [
    "!echo cd {folder}\n",
    "!echo {nbdiff_web} {file1} {file2}\n",
    "!cd {folder} && {nbdiff_web} {file1} {file2}"
   ]
  },
  {
   "cell_type": "code",
   "execution_count": null,
   "id": "21c0f558-beaf-4ba7-a119-c7c2f23f93d8",
   "metadata": {},
   "outputs": [],
   "source": []
  },
  {
   "cell_type": "markdown",
   "id": "4af9a633",
   "metadata": {},
   "source": [
    "# nbdime - version control for Jupyter notebooks\n",
    "\n",
    "Documentation: https://nbdime.readthedocs.io\n",
    "\n"
   ]
  },
  {
   "cell_type": "markdown",
   "id": "3db0d090",
   "metadata": {},
   "source": [
    "# Accessing nbdime on the hub\n",
    "\n",
    "The `nbdiff-web` command should be executed with these parameters:\n",
    "\n",
    "```\n",
    "nbdiff-web --ip 0.0.0.0 -p 9999 --base-url /user/$JUPYTERHUB_USER/proxy/absolute/9999\n",
    "```\n",
    "\n",
    "in the folder where the file to diff resides. And then the following URL should be accessed:\n",
    "\n",
    "https://stat159.datahub.berkeley.edu/user-redirect/proxy/absolute/9999/difftool"
   ]
  },
  {
   "cell_type": "markdown",
   "id": "008c4b6d",
   "metadata": {},
   "source": [
    "## Code to semi-automate the above\n",
    "\n",
    "First, define the command to run:"
   ]
  },
  {
   "cell_type": "code",
   "execution_count": null,
   "id": "b83ef1f2",
   "metadata": {},
   "outputs": [],
   "source": [
    "nbdiff_web = \"nbdiff-web --ip 0.0.0.0 -p 9999 --base-url /user/$JUPYTERHUB_USER/proxy/absolute/9999\""
   ]
  },
  {
   "cell_type": "markdown",
   "id": "595e274b",
   "metadata": {},
   "source": [
    "Next, define the location of the file/directory we want to diff:"
   ]
  },
  {
   "cell_type": "code",
   "execution_count": null,
   "id": "cf073c5e",
   "metadata": {},
   "outputs": [],
   "source": [
    "folder = \"$HOME/159/homework-dev/hw/hw01\"\n",
    "file1  = \"hw01-python-starters.ipynb\"\n",
    "file2  = \"\"\n",
    "\n",
    "folder = \"$HOME/159/site/lectures/jupyter-vc\"\n",
    "file1  = \"nb1.ipynb\"\n",
    "file2  = \"nb2.ipynb\""
   ]
  },
  {
   "cell_type": "markdown",
   "id": "2d98e09e",
   "metadata": {},
   "source": [
    "Now, the following command should do the trick. The kernel will stay blocked until interrupted.\n",
    "\n",
    "Once you run the command, visit this URL to see the diff:\n",
    "\n",
    "https://stat159.datahub.berkeley.edu/user-redirect/proxy/absolute/9999/difftool"
   ]
  },
  {
   "cell_type": "code",
   "execution_count": null,
   "id": "7bc7e233",
   "metadata": {},
   "outputs": [
    {
     "name": "stdout",
     "output_type": "stream",
     "text": [
      "cd /home/jovyan/159/site/lectures/jupyter-vc\n",
      "nbdiff-web --ip 0.0.0.0 -p 9999 --base-url /user/fernando.perez/proxy/absolute/9999 nb1.ipynb nb2.ipynb\n",
      "/srv/conda/envs/notebook/lib/python3.9/site-packages/jupyter_server_mathjax/app.py:40: FutureWarning: The alias `_()` will be deprecated. Use `_i18n()` instead.\n",
      "  help=_(\"\"\"The MathJax.js configuration file that is to be used.\"\"\"),\n",
      "[I nbdimeserver:416] Listening on 0.0.0.0, port 9999\n",
      "[W webutil:18] No web browser found: could not locate runnable browser.\n",
      "[I webutil:29] URL: http://127.0.0.1:9999/user/fernando.perez/proxy/absolute/9999/diff?base=nb1.ipynb&remote=nb2.ipynb\n",
      "^C\n",
      "Traceback (most recent call last):\n",
      "  File \"/srv/conda/envs/notebook/bin/nbdiff-web\", line 10, in <module>\n",
      "    sys.exit(main())\n",
      "  File \"/srv/conda/envs/notebook/lib/python3.9/site-packages/nbdime/webapp/nbdiffweb.py\", line 96, in main\n",
      "    return main_diff(opts)\n",
      "  File \"/srv/conda/envs/notebook/lib/python3.9/site-packages/nbdime/webapp/nbdiffweb.py\", line 83, in main_diff\n",
      "    return run_server(\n",
      "  File \"/srv/conda/envs/notebook/lib/python3.9/site-packages/nbdime/webapp/nbdimeserver.py\", line 438, in main_server\n",
      "    io_loop.start()\n",
      "  File \"/srv/conda/envs/notebook/lib/python3.9/site-packages/tornado/platform/asyncio.py\", line 199, in start\n",
      "    self.asyncio_loop.run_forever()\n",
      "  File \"/srv/conda/envs/notebook/lib/python3.9/asyncio/base_events.py\", line 596, in run_forever\n",
      "    self._run_once()\n",
      "  File \"/srv/conda/envs/notebook/lib/python3.9/asyncio/base_events.py\", line 1854, in _run_once\n",
      "    event_list = self._selector.select(timeout)\n",
      "  File \"/srv/conda/envs/notebook/lib/python3.9/selectors.py\", line 469, in select\n",
      "    fd_event_list = self._selector.poll(timeout, max_ev)\n",
      "KeyboardInterrupt\n"
     ]
    }
   ],
   "source": [
    "!echo cd {folder}\n",
    "!echo {nbdiff_web} {file1} {file2}\n",
    "!cd {folder} && {nbdiff_web} {file1} {file2}"
   ]
  },
  {
   "cell_type": "code",
   "execution_count": null,
   "id": "e135feb4",
   "metadata": {},
   "outputs": [],
   "source": []
  }
 ],
 "metadata": {
  "kernelspec": {
   "display_name": "Python 3 (ipykernel)",
   "language": "python",
   "name": "python3"
  },
  "language_info": {
   "codemirror_mode": {
    "name": "ipython",
    "version": 3
   },
   "file_extension": ".py",
   "mimetype": "text/x-python",
   "name": "python",
   "nbconvert_exporter": "python",
   "pygments_lexer": "ipython3",
   "version": "3.10.8"
  }
 },
 "nbformat": 4,
 "nbformat_minor": 5
}
